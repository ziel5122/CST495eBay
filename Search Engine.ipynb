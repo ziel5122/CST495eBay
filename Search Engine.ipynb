{
 "cells": [
  {
   "cell_type": "markdown",
   "metadata": {},
   "source": [
    "# Data Exploration"
   ]
  },
  {
   "cell_type": "markdown",
   "metadata": {},
   "source": [
    "I began by familiarizing myself with the Reuters dataset. If you don't have the data, use nltk.download() from a Python module."
   ]
  },
  {
   "cell_type": "code",
   "execution_count": 4,
   "metadata": {
    "collapsed": false
   },
   "outputs": [
    {
     "data": {
      "text/plain": [
       "<CategorizedPlaintextCorpusReader in u'/home/austin/nltk_data/corpora/reuters.zip/reuters/'>"
      ]
     },
     "execution_count": 4,
     "metadata": {},
     "output_type": "execute_result"
    }
   ],
   "source": [
    "import nltk\n",
    "\n",
    "nltk.corpus.reuters"
   ]
  },
  {
   "cell_type": "code",
   "execution_count": 5,
   "metadata": {
    "collapsed": false
   },
   "outputs": [
    {
     "data": {
      "text/plain": [
       "10788"
      ]
     },
     "execution_count": 5,
     "metadata": {},
     "output_type": "execute_result"
    }
   ],
   "source": [
    "len(nltk.corpus.reuters.fileids())"
   ]
  },
  {
   "cell_type": "code",
   "execution_count": 6,
   "metadata": {
    "collapsed": false
   },
   "outputs": [
    {
     "data": {
      "text/plain": [
       "['test/14826', 'test/14828', 'test/14829', 'test/14832', 'test/14833']"
      ]
     },
     "execution_count": 6,
     "metadata": {},
     "output_type": "execute_result"
    }
   ],
   "source": [
    "nltk.corpus.reuters.fileids()[:5]"
   ]
  },
  {
   "cell_type": "code",
   "execution_count": 7,
   "metadata": {
    "collapsed": false
   },
   "outputs": [
    {
     "data": {
      "text/plain": [
       "['test/14826', 'test/14828', 'test/14829', 'test/14832', 'test/14833']"
      ]
     },
     "execution_count": 7,
     "metadata": {},
     "output_type": "execute_result"
    }
   ],
   "source": [
    "from nltk.corpus import reuters\n",
    "reuters.fileids()[:5]"
   ]
  },
  {
   "cell_type": "markdown",
   "metadata": {},
   "source": [
    "Each document has \"categories\" which I can treat as special information later on."
   ]
  },
  {
   "cell_type": "code",
   "execution_count": 8,
   "metadata": {
    "collapsed": false,
    "scrolled": true
   },
   "outputs": [
    {
     "name": "stdout",
     "output_type": "stream",
     "text": [
      "[u'acq', u'alum', u'barley', u'bop', u'carcass', u'castor-oil', u'cocoa', u'coconut', u'coconut-oil', u'coffee', u'copper', u'copra-cake', u'corn', u'cotton', u'cotton-oil', u'cpi', u'cpu', u'crude', u'dfl', u'dlr', u'dmk', u'earn', u'fuel', u'gas', u'gnp', u'gold', u'grain', u'groundnut', u'groundnut-oil', u'heat', u'hog', u'housing', u'income', u'instal-debt', u'interest', u'ipi', u'iron-steel', u'jet', u'jobs', u'l-cattle', u'lead', u'lei', u'lin-oil', u'livestock', u'lumber', u'meal-feed', u'money-fx', u'money-supply', u'naphtha', u'nat-gas', u'nickel', u'nkr', u'nzdlr', u'oat', u'oilseed', u'orange', u'palladium', u'palm-oil', u'palmkernel', u'pet-chem', u'platinum', u'potato', u'propane', u'rand', u'rape-oil', u'rapeseed', u'reserves', u'retail', u'rice', u'rubber', u'rye', u'ship', u'silver', u'sorghum', u'soy-meal', u'soy-oil', u'soybean', u'strategic-metal', u'sugar', u'sun-meal', u'sun-oil', u'sunseed', u'tea', u'tin', u'trade', u'veg-oil', u'wheat', u'wpi', u'yen', u'zinc']\n"
     ]
    },
    {
     "data": {
      "text/plain": [
       "[u'coffee', u'lumber', u'palm-oil', u'rubber', u'veg-oil']"
      ]
     },
     "execution_count": 8,
     "metadata": {},
     "output_type": "execute_result"
    }
   ],
   "source": [
    "print reuters.categories()\n",
    "\n",
    "test_article = reuters.fileids()[6]\n",
    "reuters.categories(test_article)"
   ]
  },
  {
   "cell_type": "markdown",
   "metadata": {},
   "source": [
    "The beginning of each article has a title in all capital letters."
   ]
  },
  {
   "cell_type": "code",
   "execution_count": 9,
   "metadata": {
    "collapsed": false
   },
   "outputs": [
    {
     "data": {
      "text/plain": [
       "[u'INDONESIAN', u'COMMODITY', u'EXCHANGE', u'MAY', u'EXPAND', u'The']"
      ]
     },
     "execution_count": 9,
     "metadata": {},
     "output_type": "execute_result"
    }
   ],
   "source": [
    "reuters.words(test_article)[:6]"
   ]
  },
  {
   "cell_type": "markdown",
   "metadata": {},
   "source": [
    "I'd like to experiment with weighing these tokens heavier than the rest of the corpus later."
   ]
  },
  {
   "cell_type": "markdown",
   "metadata": {},
   "source": [
    "## Getting Started\n",
    "\n",
    "Before doing anything fancy, I should clean up the data."
   ]
  },
  {
   "cell_type": "code",
   "execution_count": 10,
   "metadata": {
    "collapsed": false
   },
   "outputs": [
    {
     "name": "stdout",
     "output_type": "stream",
     "text": [
      "[u'trade']\n",
      "[u'ASIAN', u'EXPORTERS', u'FEAR', u'DAMAGE', u'FROM', u'U', u'.', u'S', u'.-', u'JAPAN'] \n",
      "\n",
      "['trade']\n",
      "['asian', 'exporters', 'fear', 'damage', 'from', 'u', '.', 's', '.-', 'japan']\n"
     ]
    }
   ],
   "source": [
    "print reuters.categories(reuters.fileids()[0])\n",
    "print reuters.words(reuters.fileids()[0])[:10], \"\\n\"\n",
    "\n",
    "categories = []\n",
    "documents = []\n",
    "\n",
    "for file_id in reuters.fileids():\n",
    "    temp = []\n",
    "    for category in reuters.categories(file_id):\n",
    "        temp.append(category.encode('utf-8'))\n",
    "    categories.append(temp)\n",
    "    \n",
    "    temp = []\n",
    "    for word in reuters.words(file_id):\n",
    "        temp.append(word.encode('utf-8').lower())\n",
    "    documents.append(temp)\n",
    "\n",
    "print categories[0]\n",
    "print documents[0][:10]"
   ]
  },
  {
   "cell_type": "markdown",
   "metadata": {},
   "source": [
    "I'm beginning with a very simple model intentionally - ignoring case, ignoring all punctuation, etc. - so that I can add onto it and see if/how things improve."
   ]
  },
  {
   "cell_type": "markdown",
   "metadata": {
    "collapsed": false
   },
   "source": [
    "## Building the Engine\n",
    "\n",
    "The next step is to create the inverted index. I'm omitting categories for now."
   ]
  },
  {
   "cell_type": "code",
   "execution_count": 11,
   "metadata": {
    "collapsed": false
   },
   "outputs": [
    {
     "name": "stdout",
     "output_type": "stream",
     "text": [
      "3 : 2\n",
      "3333 : 1\n",
      "6758 : 1\n",
      "1546 : 1\n",
      "4183 : 1\n"
     ]
    }
   ],
   "source": [
    "def createInvertedIndex(documents):\n",
    "    idx = {}\n",
    "    \n",
    "    for i,document in enumerate(documents):\n",
    "        for word in document:\n",
    "            if word in idx:\n",
    "                if i in idx[word]:\n",
    "                    idx[word][i] += 1\n",
    "                else:\n",
    "                    idx[word][i] = 1\n",
    "            else:\n",
    "                idx[word] = {i:1}\n",
    "    return idx\n",
    "        \n",
    "idx = createInvertedIndex(documents)\n",
    "for i,pair in enumerate(idx['thailand']):\n",
    "    if i < 5:\n",
    "        print pair,':',idx['thailand'][pair]\n",
    "    else:\n",
    "        break"
   ]
  },
  {
   "cell_type": "markdown",
   "metadata": {
    "collapsed": true
   },
   "source": [
    "It's then possible to evaluate my first search query with term frequency as the only information metric."
   ]
  },
  {
   "cell_type": "code",
   "execution_count": 12,
   "metadata": {
    "collapsed": false
   },
   "outputs": [
    {
     "name": "stdout",
     "output_type": "stream",
     "text": [
      "\n",
      "Top 10 from recall set of 88 items:\n",
      "\t5.00 - ['brazil', 'says', 'debt', 'crisis', 'is', 'world', 'problem', 'brazilian'] length: 420\n",
      "\t4.00 - ['portuguese', 'economy', 'remains', 'buoyant', 'despite', 'crisis', 'portugal', \"'\"] length: 583\n",
      "\t4.00 - ['papandreou', 'shows', '\"', 'restricted', 'optimism', '\"', 'over', 'crisis'] length: 307\n",
      "\t3.00 - ['treasury', \"'\", 's', 'baker', 'under', 'fire', 'for', 'wall'] length: 871\n",
      "\t3.00 - ['cash', 'crisis', 'hits', 'ugandan', 'coffee', 'board', 'uganda', \"'\"] length: 556\n",
      "\t2.00 - ['tropical', 'forest', 'death', 'could', 'spark', 'new', 'debt', 'crisis'] length: 651\n",
      "\t2.00 - ['ec', 'commission', 'given', 'plan', 'to', 'save', 'steel', 'industry'] length: 339\n",
      "\t2.00 - ['ex', '-', 'arco', '&', 'lt', ';', 'arc', '>'] length: 292\n",
      "\t2.00 - ['diplomats', 'call', 'u', '.', 's', '.', 'attack', 'on'] length: 560\n",
      "\t2.00 - ['oecd', 'trade', ',', 'growth', 'seen', 'slowing', 'in', '1987'] length: 763\n"
     ]
    }
   ],
   "source": [
    "def searchTF(query, corpus, idx):\n",
    "    scores = {}\n",
    "    \n",
    "    for word in query.split():\n",
    "        for doc_num in idx[word]:\n",
    "            if doc_num in scores:\n",
    "                scores[doc_num] += idx[word][doc_num]\n",
    "            else:\n",
    "                scores[doc_num] = idx[word][doc_num]\n",
    "    \n",
    "    results = []\n",
    "    for pair in [[score[0],score[1]] for score in zip(scores.keys(), scores.values())]:\n",
    "        results.append([pair[1], pair[0]])\n",
    "        \n",
    "    return sorted(results, key=lambda x: x[0] * -1)\n",
    "    \n",
    "\n",
    "def printResults(results, corpus, n, head=True):\n",
    "    ''' Helper function to print results\n",
    "    '''\n",
    "    if head:    \n",
    "        print('\\nTop %d from recall set of %d items:' % (n,len(results)))\n",
    "        for r in results[:n]:\n",
    "            print('\\t%0.2f - %s length: %d'%(r[0],corpus[r[1]][:8],len(corpus[r[1]])))\n",
    "    else:\n",
    "        print('\\nBottom %d from recall set of %d items:' % (n,len(results)))\n",
    "        for r in results[-n:]:\n",
    "            print('\\t%0.2f - %s length: %d'%(r[0],corpus[r[1]][:8],len(corpus[r[1]])))\n",
    "\n",
    "idx = createInvertedIndex(documents)\n",
    "scores = searchTF('hostage crisis', documents, idx)\n",
    "printResults(scores, documents, 10)"
   ]
  },
  {
   "cell_type": "markdown",
   "metadata": {},
   "source": [
    "The resulting document set is less than spectacular. The 9th query looks promising to be an actual article on a hostage crisis, but it, like the others, lacks 'hostage'"
   ]
  },
  {
   "cell_type": "code",
   "execution_count": 13,
   "metadata": {
    "collapsed": false
   },
   "outputs": [
    {
     "name": "stdout",
     "output_type": "stream",
     "text": [
      "False\n",
      "True\n"
     ]
    }
   ],
   "source": [
    "print 'hostage' in documents[scores[8][1]]\n",
    "print 'crisis' in documents[scores[8][1]]"
   ]
  },
  {
   "cell_type": "code",
   "execution_count": 14,
   "metadata": {
    "collapsed": false
   },
   "outputs": [
    {
     "name": "stdout",
     "output_type": "stream",
     "text": [
      "\n",
      "Top 10 from recall set of 1 items:\n",
      "\t1.00 - ['unocal', '&', 'lt', ';', 'ucl', '>', 'plans', 'increase'] length: 435\n"
     ]
    }
   ],
   "source": [
    "scores = searchTF('hostage', documents, idx)\n",
    "printResults(scores, documents, 10)"
   ]
  },
  {
   "cell_type": "markdown",
   "metadata": {},
   "source": [
    "Maybe the query isn't the most fair since only one document in the entire corpus contains 'hostage'. I'll try another."
   ]
  },
  {
   "cell_type": "code",
   "execution_count": 115,
   "metadata": {
    "collapsed": false
   },
   "outputs": [
    {
     "name": "stdout",
     "output_type": "stream",
     "text": [
      "69  ECONOMICSPOTLIGHT-U.S . DEFICIT WITH NICs\n",
      "U. S. trade deficit with Taiwan and Korea is expected to widen this year, despite some economic and currency adjustments by the two newly industrialized countries, economists said.\" The surpluses that Taiwan and Korea ran with the U. S. in 1986 will \n",
      "\n",
      "53  COFFEE TALKS FAILURE SEENPRESSURINGU.S .\n",
      "of talks on re- establishing International Coffee Organization, ICO, coffee quotas last week may put political pressure on the United States, particularly the State Department, to reassess its position, but the U. S. is unlikely to back away from its basic demand \n",
      "\n",
      "50  ASIAN EXPORTERS FEAR DAMAGEFROMU. S .- JAPAN RIFT\n",
      "trade friction between the U. S. And Japan has raised fears among many of Asia' s exporting nations that the row could inflict far- reaching economic damage, businessmen and officials said. They told Reuter correspondents in Asian capitals a U. S. Move \n",
      "\n",
      "47  JAPANREJECTSU.S . OBJECTIONS TO FAIRCHILDSALE A\n",
      "Ministry official dismissed arguments made by senior U. S. Government officials seeking to block the sale of a U. S. Microchip maker to a Japanese firm.\" They appear to be linking completely unrelated issues ,\" Shuichi Takemoto of the Foreign Ministry' s North \n",
      "\n",
      "46  JAPAN MINISTRY SAYS OPEN FARM TRADE WOULDHITU.S .\n",
      "' s Agriculture Ministry, angered by U. S. Demands that Japan open its farm products market, will tell U. S. Officials at talks later this month that liberalisation would harm existing U. S. Farm exports to Japan, a senior ministry official \n",
      "\n"
     ]
    }
   ],
   "source": [
    "scores = searchTF('u s national debt', documents, idx)\n",
    "print_results(scores, documents, 5)"
   ]
  },
  {
   "cell_type": "markdown",
   "metadata": {},
   "source": [
    "The results are noticeably better. One thing that stands out, however, is that longer queries seem to dominate the top, and the weighting of all tokens is the same, when really they should be diminished by their prevalence.\n",
    "\n",
    "## Improving the Results\n",
    "\n",
    "First, we can change the weights of terms by implementing IDF to our score, then later on, adjust the document scores by their length. In eyeballing the results, US seems to appear more which is good; it's weight has likely beein increased significantly by the addition of IDF."
   ]
  },
  {
   "cell_type": "code",
   "execution_count": 113,
   "metadata": {
    "collapsed": false
   },
   "outputs": [
    {
     "name": "stdout",
     "output_type": "stream",
     "text": [
      "74.2293301544  ECONOMICSPOTLIGHT-U.S . DEFICIT WITH NICs\n",
      "U. S. trade deficit with Taiwan and Korea is expected to widen this year, despite some economic and currency adjustments by the two newly industrialized countries, economists said.\" The surpluses that Taiwan and Korea ran with the U. S. in 1986 will \n",
      "\n",
      "62.3012977666 U.S . URGES BANKS TO WEIGH PHILIPPINE DEBT PLAN\n",
      "U. S. is urging reluctant commercial banks to seriously consider accepting a novel Philippine proposal for paying its interest bill and believes the innovation is fully consistent with its Third World debt strategy, a Reagan administration official said. The official' s comments also suggest that \n",
      "\n",
      "61.7681979233  COFFEE TALKS FAILURE SEENPRESSURINGU.S .\n",
      "of talks on re- establishing International Coffee Organization, ICO, coffee quotas last week may put political pressure on the United States, particularly the State Department, to reassess its position, but the U. S. is unlikely to back away from its basic demand \n",
      "\n",
      "52.5897263844  JAPANREJECTSU.S . OBJECTIONS TO FAIRCHILDSALE A\n",
      "Ministry official dismissed arguments made by senior U. S. Government officials seeking to block the sale of a U. S. Microchip maker to a Japanese firm.\" They appear to be linking completely unrelated issues ,\" Shuichi Takemoto of the Foreign Ministry' s North \n",
      "\n",
      "52.1490004795  ASIAN EXPORTERS FEAR DAMAGEFROMU. S .- JAPAN RIFT\n",
      "trade friction between the U. S. And Japan has raised fears among many of Asia' s exporting nations that the row could inflict far- reaching economic damage, businessmen and officials said. They told Reuter correspondents in Asian capitals a U. S. Move \n",
      "\n",
      "51.1357044712  JAPAN MINISTRY SAYS OPEN FARM TRADE WOULDHITU.S .\n",
      "' s Agriculture Ministry, angered by U. S. Demands that Japan open its farm products market, will tell U. S. Officials at talks later this month that liberalisation would harm existing U. S. Farm exports to Japan, a senior ministry official \n",
      "\n",
      "48.9606512473  AMPLE SUPPLIESLIMITU.S .STRIKE' S OIL PRICE IMPACT\n",
      "supplies of OPEC crude weighing on world markets helped limit and then reverse oil price gains that followed the U. S. Strike on an Iranian oil platform in the Gulf earlier on Monday, analysts said. December loading rose to 19. 65 dlrs, up 45 \n",
      "\n",
      "48.2618406212  CHINA CALLS FOR BETTER TRADE DEALWITHU.S .\n",
      "called on the United States to remove curbs on its exports, to give it favourable trading status and ease restrictions on exports of high technology. But the U. S. Embassy replied that Chinese figures showing 13 years of trade deficits with the U. S. \n",
      "\n",
      "46.805157399  OFFER FOR DOME MAYSHORT - CIRCUIT ITS DEBTTALKSA3 . 22\n",
      "dlr offer for Dome Petroleum Ltd& lt; DMP. MO> by TransCanada Pipelines Ltd& lt; TRP. TO> may short- circuit Dome' s restructuring plan and open the door for more takeover bids, oil analysts said. Dome is trying to \n",
      "\n",
      "46.805157399  OFFER FOR DOME MAYSHORT - CIRCUIT ITS DEBTTALKSA3 . 22\n",
      "dlr offer for Dome Petroleum Ltd& lt; DMP. MO> by TransCanada Pipelines Ltd& lt; TRP. TO> may short- circuit Dome' s restructuring plan and open the door for more takeover bids, oil analysts said. Dome is trying to \n",
      "\n"
     ]
    }
   ],
   "source": [
    "import math\n",
    "\n",
    "def idfCalc(term, idx, n):\n",
    "    return math.log( float(n) / (1 + len(idx[term])))\n",
    "\n",
    "def searchTFIDF(query, corpus, idx):\n",
    "    scores = {}\n",
    "    \n",
    "    for word in query.split():\n",
    "        if word in idx:\n",
    "            idf = idfCalc(word, idx, len(corpus))\n",
    "            \n",
    "            for doc_num in idx[word]:\n",
    "                if doc_num in scores:\n",
    "                    scores[doc_num] += idx[word][doc_num] * idf\n",
    "                else:\n",
    "                    scores[doc_num] = idx[word][doc_num] * idf\n",
    "    \n",
    "    results = []\n",
    "    for pair in [[score[0],score[1]] for score in zip(scores.keys(), scores.values())]:\n",
    "        results.append([pair[1], pair[0]])\n",
    "        \n",
    "    return sorted(results, key=lambda x: x[0] * -1)\n",
    "\n",
    "scores = searchTFIDF('u s national debt', documents, idx)\n",
    "print_results(scores, documents, 10)"
   ]
  },
  {
   "cell_type": "markdown",
   "metadata": {},
   "source": [
    "Now to do something about the document length. I'll start by simply dividing the score by the length of the document. This should give me a sort of relevance per token metric."
   ]
  },
  {
   "cell_type": "code",
   "execution_count": 111,
   "metadata": {
    "collapsed": false
   },
   "outputs": [
    {
     "name": "stdout",
     "output_type": "stream",
     "text": [
      "0.356455395684 \n",
      "national bank says bought dollars against yen swiss national bank says bought dollars against yen\n",
      "\n",
      "0.316849240608  VIACOM INTERNATIONAL INC GETS ANOTHER NEW NATIONAL AMUSEMENTS BID VIACOM INTERNATIONAL INC GETS ANOTHER NEW NATIONAL AMUSEMENTSBID"
     ]
    },
    {
     "ename": "TypeError",
     "evalue": "'NoneType' object is not iterable",
     "output_type": "error",
     "traceback": [
      "\u001b[1;31m---------------------------------------------------------------------------\u001b[0m",
      "\u001b[1;31mTypeError\u001b[0m                                 Traceback (most recent call last)",
      "\u001b[1;32m<ipython-input-111-0676e788d7ff>\u001b[0m in \u001b[0;36m<module>\u001b[1;34m()\u001b[0m\n\u001b[0;32m     20\u001b[0m \u001b[1;33m\u001b[0m\u001b[0m\n\u001b[0;32m     21\u001b[0m \u001b[0mscores\u001b[0m \u001b[1;33m=\u001b[0m \u001b[0msearchTFIDFNorm\u001b[0m\u001b[1;33m(\u001b[0m\u001b[1;34m'u s national debt'\u001b[0m\u001b[1;33m,\u001b[0m \u001b[0mdocuments\u001b[0m\u001b[1;33m,\u001b[0m \u001b[0midx\u001b[0m\u001b[1;33m)\u001b[0m\u001b[1;33m\u001b[0m\u001b[0m\n\u001b[1;32m---> 22\u001b[1;33m \u001b[0mprint_results\u001b[0m\u001b[1;33m(\u001b[0m\u001b[0mscores\u001b[0m\u001b[1;33m,\u001b[0m \u001b[0mdocuments\u001b[0m\u001b[1;33m,\u001b[0m \u001b[1;36m10\u001b[0m\u001b[1;33m)\u001b[0m\u001b[1;33m\u001b[0m\u001b[0m\n\u001b[0m",
      "\u001b[1;32m<ipython-input-106-bfefbde2d705>\u001b[0m in \u001b[0;36mprint_results\u001b[1;34m(scores, corpus, num_results, num_chars)\u001b[0m\n\u001b[0;32m     33\u001b[0m     \u001b[1;32mfor\u001b[0m \u001b[0mpair\u001b[0m \u001b[1;32min\u001b[0m \u001b[0mscores\u001b[0m\u001b[1;33m[\u001b[0m\u001b[1;33m:\u001b[0m\u001b[0mnum_results\u001b[0m\u001b[1;33m]\u001b[0m\u001b[1;33m:\u001b[0m\u001b[1;33m\u001b[0m\u001b[0m\n\u001b[0;32m     34\u001b[0m         \u001b[1;32mprint\u001b[0m\u001b[1;33m(\u001b[0m\u001b[0mstr\u001b[0m\u001b[1;33m(\u001b[0m\u001b[0mpair\u001b[0m\u001b[1;33m[\u001b[0m\u001b[1;36m0\u001b[0m\u001b[1;33m]\u001b[0m\u001b[1;33m)\u001b[0m \u001b[1;33m+\u001b[0m \u001b[1;34m' '\u001b[0m\u001b[1;33m,\u001b[0m \u001b[0mend\u001b[0m\u001b[1;33m=\u001b[0m\u001b[1;34m''\u001b[0m\u001b[1;33m)\u001b[0m\u001b[1;33m\u001b[0m\u001b[0m\n\u001b[1;32m---> 35\u001b[1;33m         \u001b[0mprintNicely\u001b[0m\u001b[1;33m(\u001b[0m\u001b[0mpair\u001b[0m\u001b[1;33m[\u001b[0m\u001b[1;36m1\u001b[0m\u001b[1;33m]\u001b[0m\u001b[1;33m,\u001b[0m \u001b[0mnum_chars\u001b[0m\u001b[1;33m)\u001b[0m\u001b[1;33m\u001b[0m\u001b[0m\n\u001b[0m",
      "\u001b[1;32m<ipython-input-106-bfefbde2d705>\u001b[0m in \u001b[0;36mprintNicely\u001b[1;34m(x, num_tokens)\u001b[0m\n\u001b[0;32m      5\u001b[0m \u001b[1;33m\u001b[0m\u001b[0m\n\u001b[0;32m      6\u001b[0m \u001b[1;32mdef\u001b[0m \u001b[0mprintNicely\u001b[0m\u001b[1;33m(\u001b[0m\u001b[0mx\u001b[0m\u001b[1;33m,\u001b[0m \u001b[0mnum_tokens\u001b[0m\u001b[1;33m)\u001b[0m\u001b[1;33m:\u001b[0m\u001b[1;33m\u001b[0m\u001b[0m\n\u001b[1;32m----> 7\u001b[1;33m     \u001b[0mnum_lines\u001b[0m\u001b[1;33m,\u001b[0m \u001b[0mwords\u001b[0m \u001b[1;33m=\u001b[0m \u001b[0mprintNicelyTitle\u001b[0m\u001b[1;33m(\u001b[0m\u001b[0mx\u001b[0m\u001b[1;33m,\u001b[0m \u001b[0mnum_tokens\u001b[0m\u001b[1;33m)\u001b[0m\u001b[1;33m\u001b[0m\u001b[0m\n\u001b[0m\u001b[0;32m      8\u001b[0m     \u001b[0mprintNicelyCorpus\u001b[0m\u001b[1;33m(\u001b[0m\u001b[0mx\u001b[0m\u001b[1;33m,\u001b[0m \u001b[0mnum_tokens\u001b[0m\u001b[1;33m,\u001b[0m \u001b[0mwords\u001b[0m\u001b[1;33m)\u001b[0m\u001b[1;33m\u001b[0m\u001b[0m\n\u001b[0;32m      9\u001b[0m \u001b[1;33m\u001b[0m\u001b[0m\n",
      "\u001b[1;31mTypeError\u001b[0m: 'NoneType' object is not iterable"
     ]
    }
   ],
   "source": [
    "def searchTFIDFNorm(query, corpus, idx):\n",
    "    scores = {}\n",
    "    \n",
    "    for word in query.split():\n",
    "        docs = []\n",
    "        if word in idx:\n",
    "            idf = idfCalc(word, idx, len(corpus))\n",
    "            \n",
    "            for doc_num in idx[word]:\n",
    "                if doc_num in scores:\n",
    "                    scores[doc_num] += idx[word][doc_num] * idf\n",
    "                else:\n",
    "                    scores[doc_num] = idx[word][doc_num] * idf\n",
    "    \n",
    "    results = []\n",
    "    for pair in [[score[0],score[1]] for score in zip(scores.keys(), scores.values())]:\n",
    "        results.append([pair[1] / len(corpus[pair[0]]), pair[0]])\n",
    "        \n",
    "    return sorted(results, key=lambda x: x[0] * -1)\n",
    "\n",
    "scores = searchTFIDFNorm('u s national debt', documents, idx)\n",
    "print_results(scores, documents, 10)"
   ]
  },
  {
   "cell_type": "markdown",
   "metadata": {},
   "source": [
    "The results appear to be disastrous. Very short queries are winning out because occurences of 'national' for example aren't being mitigated very heavily by a document of length 16. Perhaps a more moderate approach like normalizing by the log of the length would be effective."
   ]
  },
  {
   "cell_type": "code",
   "execution_count": 109,
   "metadata": {
    "collapsed": false
   },
   "outputs": [
    {
     "name": "stdout",
     "output_type": "stream",
     "text": [
      "10.467009227  ECONOMICSPOTLIGHT-U.S . DEFICIT WITH NICs\n",
      "U. S. trade deficit with Taiwan and Korea is expected to widen this year, despite some economic and currency adjustments by the two newly industrialized countries, economists said.\" The surpluses that Taiwan and Korea ran with the U. S. in 1986 will \n",
      "\n",
      "9.16050591129  COFFEE TALKS FAILURE SEENPRESSURINGU.S .\n",
      "of talks on re- establishing International Coffee Organization, ICO, coffee quotas last week may put political pressure on the United States, particularly the State Department, to reassess its position, but the U. S. is unlikely to back away from its basic demand \n",
      "\n",
      "9.04147901591 U.S . URGES BANKS TO WEIGH PHILIPPINE DEBT PLAN\n",
      "U. S. is urging reluctant commercial banks to seriously consider accepting a novel Philippine proposal for paying its interest bill and believes the innovation is fully consistent with its Third World debt strategy, a Reagan administration official said. The official' s comments also suggest that \n",
      "\n",
      "8.17302761443  JAPANREJECTSU.S . OBJECTIONS TO FAIRCHILDSALE A\n",
      "Ministry official dismissed arguments made by senior U. S. Government officials seeking to block the sale of a U. S. Microchip maker to a Japanese firm.\" They appear to be linking completely unrelated issues ,\" Shuichi Takemoto of the Foreign Ministry' s North \n",
      "\n",
      "8.01697832645  JAPAN MINISTRY SAYS OPEN FARM TRADE WOULDHITU.S .\n",
      "' s Agriculture Ministry, angered by U. S. Demands that Japan open its farm products market, will tell U. S. Officials at talks later this month that liberalisation would harm existing U. S. Farm exports to Japan, a senior ministry official \n",
      "\n",
      "7.66752393852  ASIAN EXPORTERS FEAR DAMAGEFROMU. S .- JAPAN RIFT\n",
      "trade friction between the U. S. And Japan has raised fears among many of Asia' s exporting nations that the row could inflict far- reaching economic damage, businessmen and officials said. They told Reuter correspondents in Asian capitals a U. S. Move \n",
      "\n",
      "7.60005117322  EXCHANGE RATE BILLCLEARSU.S . HOUSE PANEL\n",
      "House Banking Committee adopted legislation to direct the U. S. Treasury to begin negotiations aimed at seeking regular adjustment of exchange rates by countries such as Taiwan and South Korea, whose currencies are pegged to the value of the U. S. dollar. The measure \n",
      "\n",
      "7.4835095271  AMPLE SUPPLIESLIMITU.S .STRIKE' S OIL PRICE IMPACT\n",
      "supplies of OPEC crude weighing on world markets helped limit and then reverse oil price gains that followed the U. S. Strike on an Iranian oil platform in the Gulf earlier on Monday, analysts said. December loading rose to 19. 65 dlrs, up 45 \n",
      "\n",
      "7.44814738185  OFFER FOR DOME MAYSHORT - CIRCUIT ITS DEBTTALKSA3 . 22\n",
      "dlr offer for Dome Petroleum Ltd& lt; DMP. MO> by TransCanada Pipelines Ltd& lt; TRP. TO> may short- circuit Dome' s restructuring plan and open the door for more takeover bids, oil analysts said. Dome is trying to \n",
      "\n",
      "7.44814738185  OFFER FOR DOME MAYSHORT - CIRCUIT ITS DEBTTALKSA3 . 22\n",
      "dlr offer for Dome Petroleum Ltd& lt; DMP. MO> by TransCanada Pipelines Ltd& lt; TRP. TO> may short- circuit Dome' s restructuring plan and open the door for more takeover bids, oil analysts said. Dome is trying to \n",
      "\n",
      "7.08218311173  CHINA CALLS FOR BETTER TRADE DEALWITHU.S .\n",
      "called on the United States to remove curbs on its exports, to give it favourable trading status and ease restrictions on exports of high technology. But the U. S. Embassy replied that Chinese figures showing 13 years of trade deficits with the U. S. \n",
      "\n",
      "6.66039864315  NATIONAL SAVINGS MOVE POINTS TOLOWERU.K .RATESU.K .\n",
      "rates look set to move lower even after Monday' s half- point cut in bank base rates to 10- 1/ 2 pct, analysts said, citing as evidence the suspension of a British National Savings issue yesterday. The Department of National Savings, effectively \n",
      "\n",
      "6.59297491306  LOUVRE ACCORD STILL INEFFECT , JAPAN OFFICIAL SAYS\n",
      "Group of Seven( G- 7) industrial nations still comply with last February' s Louvre accord to stabilize currencies, a senior Bank of Japan official said. And U. S. Treasury Secretary James Baker' s remarks at the weekend indicating the need to \n",
      "\n",
      "6.25095135665 U.S . HOUSE PANEL VOTES TO EASE EXPORTCONTROLS A\n",
      "House panel voted to greatly ease government controls on exports as several House committees moved rapidly toward approval of major changes in trade laws they hope will help solve U. S. trade woes. The House Foreign Affairs Subcommittee on International Economic Policy voted to direct the administration \n",
      "\n",
      "5.96284352587 U.S . ECONOMY SHOWS PROMISING SIGNS OF GROWTH\n",
      "U. S. economy is showing some promising signs of accelerated expansion despite the sluggishness of the fourth quarter last year, private economists say. Some of the slowness experienced in the October- December period had been expected to spill over into the first quarter this year\n",
      "\n",
      "5.95375499936  FAIRCHILD DEAL FAILURE SEEN MAKING JAPANESE WARY\n",
      "Ltd' s& lt; SLB. N> decision to end an agreement in principle for Fujitsu Ltd& lt; ITSU. T> to buy 80 pct of its& lt; Fairchild Semiconductor Corp >, and the political furore that surrounded the proposed sale, \n",
      "\n",
      "5.94238741611  ECONOMICSPOTLIGHT -CHINA' S FOREIGN DEBT UP\n",
      "' s foreign debt reached 27 billion dlrs by the end of 1986, but despite an over- exposure to short- term credits and yen borrowing, China remains very creditworthy with an improved 1987 export outlook, foreign bankers and Chinese officials told Reuters. Foreign bankers \n",
      "\n",
      "5.93855815386  SOUTH AFRICA PROBLEMS REMAIN DESPITE DEBT PACT\n",
      "Africa' s new foreign debt agreement sparked a rally in local financial markets, but bankers and economists said the pact removes only one source of anxiety from a still depressed economy.\" We have not gone from' no confidence' to' full confidence' yet \n",
      "\n",
      "5.90574178146  BRAZIL SAYS DEBT CRISIS IS WORLD PROBLEM\n",
      "Finance Minister Dilson Funaro said his country' s foreign debt crisis could only be solved by changes in the international financial system. Speaking to a business conference he said\" It is not Brazil that has to make adjustments with the IMF( International Monetary Fund ). It \n",
      "\n",
      "5.86473559974 FEBRUARYU.S . JOBS GAINS SHOW STRONGER ECONOMY\n",
      "in th U. S. economy may be picking up given solid across- the board increases in the February U. S. employment report, economists said. U. S. non- farm payroll employment rose 337, 000 in February, twice what the \n",
      "\n"
     ]
    }
   ],
   "source": [
    "import math\n",
    "\n",
    "def searchTFIDFNorm(query, corpus, idx):\n",
    "    scores = {}\n",
    "    \n",
    "    for word in query.split():\n",
    "        docs = []\n",
    "        if word in idx:\n",
    "            idf = idfCalc(word, idx, len(corpus))\n",
    "            \n",
    "            for doc_num in idx[word]:\n",
    "                if doc_num in scores:\n",
    "                    scores[doc_num] += idx[word][doc_num] * idf\n",
    "                else:\n",
    "                    scores[doc_num] = idx[word][doc_num] * idf\n",
    "    \n",
    "    results = []\n",
    "    for pair in [[score[0],score[1]] for score in zip(scores.keys(), scores.values())]:\n",
    "        results.append([pair[1] / math.log(len(corpus[pair[0]])), pair[0]])\n",
    "        \n",
    "    return sorted(results, key=lambda x: x[0] * -1)\n",
    "\n",
    "scores = searchTFIDFNorm('u s national debt', documents, idx)\n",
    "print_results(scores, documents, 20)"
   ]
  },
  {
   "cell_type": "code",
   "execution_count": 120,
   "metadata": {
    "collapsed": false
   },
   "outputs": [
    {
     "name": "stdout",
     "output_type": "stream",
     "text": [
      "999 ENERGY/U.S . PETROCHEMICAL INDUSTRY\n",
      "oil feedstocks, the weakened U. S. dollar and a plant utilization rate approaching 90 pct will propel the streamlined U. S. petrochemical industry to record profits this year, with growth expected through at least 1990, major company executives predicted. This bullish outlook \n",
      "\n"
     ]
    }
   ],
   "source": [
    "#from sys.stdout import write\n",
    "import sys\n",
    "import string\n",
    "from __future__ import print_function\n",
    "\n",
    "def printNicely(x, num_tokens):\n",
    "    num_lines, words = printNicelyTitle(x, num_tokens)\n",
    "    printNicelyCorpus(x, num_tokens, words)\n",
    "    \n",
    "def printNicelyTitle(x, num_tokens):\n",
    "    words = reuters.words(reuters.fileids()[x])\n",
    "    print(len(words), end=' ')\n",
    "    for i,word in enumerate(words):\n",
    "        if len(word) > 1:\n",
    "            if word[1].islower():\n",
    "                sys.stdout.write('\\n')\n",
    "                return num_tokens-1, words[i+1:]\n",
    "        if i < len(words)-1:\n",
    "            if words[i+1] not in set(string.punctuation) and len(words[i+1]) != 1:\n",
    "                sys.stdout.write(' ')\n",
    "        sys.stdout.write(word)\n",
    "\n",
    "def printNicelyCorpus(x, num_tokens, words):\n",
    "    for i,word in enumerate(words[:num_tokens]): \n",
    "        sys.stdout.write(word)\n",
    "        if i < len(words)-1:\n",
    "            if words[i+1] not in set(string.punctuation):\n",
    "                sys.stdout.write(' ')\n",
    "    sys.stdout.write('\\n\\n')\n",
    "    \n",
    "printNicely(123, 50)\n",
    "\n",
    "def print_results(scores, corpus, num_results, num_chars=50):\n",
    "    for pair in scores[:num_results]:\n",
    "        print(str(pair[0]) + ' ', end='')\n",
    "        printNicely(pair[1], num_chars)"
   ]
  },
  {
   "cell_type": "code",
   "execution_count": 121,
   "metadata": {
    "collapsed": false
   },
   "outputs": [
    {
     "name": "stdout",
     "output_type": "stream",
     "text": [
      "10.467009227 1202  ECONOMICSPOTLIGHT-U.S . DEFICIT WITH NICs\n",
      "U. S. trade deficit with Taiwan and Korea is expected to widen this year, despite some economic and currency adjustments by the two newly industrialized countries, economists said.\" The surpluses that Taiwan and Korea ran with the U. S. in 1986 will \n",
      "\n",
      "9.16050591129 848  COFFEE TALKS FAILURE SEENPRESSURINGU.S .\n",
      "of talks on re- establishing International Coffee Organization, ICO, coffee quotas last week may put political pressure on the United States, particularly the State Department, to reassess its position, but the U. S. is unlikely to back away from its basic demand \n",
      "\n",
      "9.04147901591 983 U.S . URGES BANKS TO WEIGH PHILIPPINE DEBT PLAN\n",
      "U. S. is urging reluctant commercial banks to seriously consider accepting a novel Philippine proposal for paying its interest bill and believes the innovation is fully consistent with its Third World debt strategy, a Reagan administration official said. The official' s comments also suggest that \n",
      "\n",
      "8.17302761443 623  JAPANREJECTSU.S . OBJECTIONS TO FAIRCHILDSALE A\n",
      "Ministry official dismissed arguments made by senior U. S. Government officials seeking to block the sale of a U. S. Microchip maker to a Japanese firm.\" They appear to be linking completely unrelated issues ,\" Shuichi Takemoto of the Foreign Ministry' s North \n",
      "\n",
      "8.01697832645 589  JAPAN MINISTRY SAYS OPEN FARM TRADE WOULDHITU.S .\n",
      "' s Agriculture Ministry, angered by U. S. Demands that Japan open its farm products market, will tell U. S. Officials at talks later this month that liberalisation would harm existing U. S. Farm exports to Japan, a senior ministry official \n",
      "\n"
     ]
    }
   ],
   "source": [
    "import math\n",
    "\n",
    "def searchTFIDFNorm(query, corpus, idx):\n",
    "    scores = {}\n",
    "    \n",
    "    for word in query.split():\n",
    "        docs = []\n",
    "        if word in idx:\n",
    "            idf = idfCalc(word, idx, len(corpus))\n",
    "            \n",
    "            for doc_num in idx[word]:\n",
    "                if doc_num in scores:\n",
    "                    scores[doc_num] += idx[word][doc_num] * idf\n",
    "                else:\n",
    "                    scores[doc_num] = idx[word][doc_num] * idf\n",
    "    \n",
    "    results = []\n",
    "    for pair in [[score[0],score[1]] for score in zip(scores.keys(), scores.values())]:\n",
    "        results.append([pair[1] / math.log(len(corpus[pair[0]])), pair[0]])\n",
    "        \n",
    "    return sorted(results, key=lambda x: x[0] * -1)\n",
    "\n",
    "scores = searchTFIDFNorm('u s national debt', documents, idx)\n",
    "print_results(scores, documents, 5, 50)\n",
    "\n"
   ]
  },
  {
   "cell_type": "code",
   "execution_count": null,
   "metadata": {
    "collapsed": true
   },
   "outputs": [],
   "source": []
  }
 ],
 "metadata": {
  "kernelspec": {
   "display_name": "Python 2",
   "language": "python",
   "name": "python2"
  },
  "language_info": {
   "codemirror_mode": {
    "name": "ipython",
    "version": 2
   },
   "file_extension": ".py",
   "mimetype": "text/x-python",
   "name": "python",
   "nbconvert_exporter": "python",
   "pygments_lexer": "ipython2",
   "version": "2.7.11"
  }
 },
 "nbformat": 4,
 "nbformat_minor": 0
}
