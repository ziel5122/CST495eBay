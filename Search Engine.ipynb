{
 "cells": [
  {
   "cell_type": "markdown",
   "metadata": {},
   "source": [
    "### Austin Zielinski\n",
    "# Search Engine\n",
    "\n",
    "## Data Exploration\n"
   ]
  },
  {
   "cell_type": "markdown",
   "metadata": {},
   "source": [
    "I began by familiarizing myself with the Reuters dataset. If you don't have the data, use nltk.download() from a Python module."
   ]
  },
  {
   "cell_type": "code",
   "execution_count": 1,
   "metadata": {
    "collapsed": false
   },
   "outputs": [
    {
     "data": {
      "text/plain": [
       "<CategorizedPlaintextCorpusReader in u'/home/austin/nltk_data/corpora/reuters.zip/reuters/'>"
      ]
     },
     "execution_count": 1,
     "metadata": {},
     "output_type": "execute_result"
    }
   ],
   "source": [
    "import nltk\n",
    "\n",
    "nltk.corpus.reuters"
   ]
  },
  {
   "cell_type": "code",
   "execution_count": 2,
   "metadata": {
    "collapsed": false
   },
   "outputs": [
    {
     "data": {
      "text/plain": [
       "10788"
      ]
     },
     "execution_count": 2,
     "metadata": {},
     "output_type": "execute_result"
    }
   ],
   "source": [
    "len(nltk.corpus.reuters.fileids())"
   ]
  },
  {
   "cell_type": "code",
   "execution_count": 3,
   "metadata": {
    "collapsed": false
   },
   "outputs": [
    {
     "data": {
      "text/plain": [
       "['test/14826', 'test/14828', 'test/14829', 'test/14832', 'test/14833']"
      ]
     },
     "execution_count": 3,
     "metadata": {},
     "output_type": "execute_result"
    }
   ],
   "source": [
    "nltk.corpus.reuters.fileids()[:5]"
   ]
  },
  {
   "cell_type": "code",
   "execution_count": 4,
   "metadata": {
    "collapsed": false
   },
   "outputs": [
    {
     "data": {
      "text/plain": [
       "['test/14826', 'test/14828', 'test/14829', 'test/14832', 'test/14833']"
      ]
     },
     "execution_count": 4,
     "metadata": {},
     "output_type": "execute_result"
    }
   ],
   "source": [
    "from nltk.corpus import reuters\n",
    "reuters.fileids()[:5]"
   ]
  },
  {
   "cell_type": "markdown",
   "metadata": {},
   "source": [
    "Each document has \"categories\" which I can treat as special information later on."
   ]
  },
  {
   "cell_type": "code",
   "execution_count": 5,
   "metadata": {
    "collapsed": false,
    "scrolled": true
   },
   "outputs": [
    {
     "name": "stdout",
     "output_type": "stream",
     "text": [
      "[u'acq', u'alum', u'barley', u'bop', u'carcass', u'castor-oil', u'cocoa', u'coconut', u'coconut-oil', u'coffee', u'copper', u'copra-cake', u'corn', u'cotton', u'cotton-oil', u'cpi', u'cpu', u'crude', u'dfl', u'dlr', u'dmk', u'earn', u'fuel', u'gas', u'gnp', u'gold', u'grain', u'groundnut', u'groundnut-oil', u'heat', u'hog', u'housing', u'income', u'instal-debt', u'interest', u'ipi', u'iron-steel', u'jet', u'jobs', u'l-cattle', u'lead', u'lei', u'lin-oil', u'livestock', u'lumber', u'meal-feed', u'money-fx', u'money-supply', u'naphtha', u'nat-gas', u'nickel', u'nkr', u'nzdlr', u'oat', u'oilseed', u'orange', u'palladium', u'palm-oil', u'palmkernel', u'pet-chem', u'platinum', u'potato', u'propane', u'rand', u'rape-oil', u'rapeseed', u'reserves', u'retail', u'rice', u'rubber', u'rye', u'ship', u'silver', u'sorghum', u'soy-meal', u'soy-oil', u'soybean', u'strategic-metal', u'sugar', u'sun-meal', u'sun-oil', u'sunseed', u'tea', u'tin', u'trade', u'veg-oil', u'wheat', u'wpi', u'yen', u'zinc']\n"
     ]
    },
    {
     "data": {
      "text/plain": [
       "[u'coffee', u'lumber', u'palm-oil', u'rubber', u'veg-oil']"
      ]
     },
     "execution_count": 5,
     "metadata": {},
     "output_type": "execute_result"
    }
   ],
   "source": [
    "print reuters.categories()\n",
    "\n",
    "test_article = reuters.fileids()[6]\n",
    "reuters.categories(test_article)"
   ]
  },
  {
   "cell_type": "markdown",
   "metadata": {},
   "source": [
    "The beginning of each article has a title in all capital letters."
   ]
  },
  {
   "cell_type": "code",
   "execution_count": 6,
   "metadata": {
    "collapsed": false
   },
   "outputs": [
    {
     "data": {
      "text/plain": [
       "[u'INDONESIAN', u'COMMODITY', u'EXCHANGE', u'MAY', u'EXPAND', u'The']"
      ]
     },
     "execution_count": 6,
     "metadata": {},
     "output_type": "execute_result"
    }
   ],
   "source": [
    "reuters.words(test_article)[:6]"
   ]
  },
  {
   "cell_type": "markdown",
   "metadata": {},
   "source": [
    "I'd like to experiment with weighing these tokens heavier than the rest of the corpus later."
   ]
  },
  {
   "cell_type": "markdown",
   "metadata": {},
   "source": [
    "## Getting Started\n",
    "\n",
    "Before doing anything fancy, I should clean up the data."
   ]
  },
  {
   "cell_type": "code",
   "execution_count": 7,
   "metadata": {
    "collapsed": false
   },
   "outputs": [
    {
     "name": "stdout",
     "output_type": "stream",
     "text": [
      "[u'trade']\n",
      "[u'ASIAN', u'EXPORTERS', u'FEAR', u'DAMAGE', u'FROM', u'U', u'.', u'S', u'.-', u'JAPAN'] \n",
      "\n",
      "['trade']\n",
      "['asian', 'exporters', 'fear', 'damage', 'from', 'u', '.', 's', '.-', 'japan']\n"
     ]
    }
   ],
   "source": [
    "print reuters.categories(reuters.fileids()[0])\n",
    "print reuters.words(reuters.fileids()[0])[:10], \"\\n\"\n",
    "\n",
    "categories = []\n",
    "documents = []\n",
    "\n",
    "for file_id in reuters.fileids():\n",
    "    temp = []\n",
    "    for category in reuters.categories(file_id):\n",
    "        temp.append(category.encode('utf-8'))\n",
    "    categories.append(temp)\n",
    "    \n",
    "    temp = []\n",
    "    for word in reuters.words(file_id):\n",
    "        temp.append(word.encode('utf-8').lower())\n",
    "    documents.append(temp)\n",
    "\n",
    "print categories[0]\n",
    "print documents[0][:10]"
   ]
  },
  {
   "cell_type": "markdown",
   "metadata": {},
   "source": [
    "I'm beginning with a very simple model intentionally - ignoring case, ignoring all punctuation, etc. - so that I can add onto it and see if/how things improve.\n",
    "\n",
    "I built a function to print each article neatly."
   ]
  },
  {
   "cell_type": "code",
   "execution_count": 8,
   "metadata": {
    "collapsed": false
   },
   "outputs": [
    {
     "name": "stdout",
     "output_type": "stream",
     "text": [
      " ENERGY/U.S . PETROCHEMICAL INDUSTRY\n",
      "oil feedstocks, the weakened U. S. dollar and a plant utilization rate approaching 90 pct will propel the streamlined U. S. petrochemical industry to record profits this year, with growth expected through at least 1990, \n",
      "\n"
     ]
    }
   ],
   "source": [
    "#from sys.stdout import write\n",
    "import sys\n",
    "import string\n",
    "\n",
    "def printNicely(x, num_tokens):\n",
    "    num_tokens, words = printNicelyTitle(x, num_tokens)\n",
    "    printNicelyCorpus(x, num_tokens, words)\n",
    "    \n",
    "def printNicelyTitle(x, num_tokens):\n",
    "    words = reuters.words(reuters.fileids()[x])\n",
    "    sys.stdout.write(' ')\n",
    "    for i,word in enumerate(words):\n",
    "        if len(word) > 2:\n",
    "            if word[1].islower():\n",
    "                sys.stdout.write('\\n')\n",
    "                return num_tokens-i, words[i+1:]\n",
    "        if i < len(words)-1:\n",
    "            if words[i+1] not in set(string.punctuation) and len(words[i+1]) != 1:\n",
    "                sys.stdout.write(' ')\n",
    "        sys.stdout.write(word)\n",
    "    return 0, ['']\n",
    "\n",
    "def printNicelyCorpus(x, num_tokens, words):\n",
    "    for i,word in enumerate(words[:num_tokens]): \n",
    "        sys.stdout.write(word)\n",
    "        if i < len(words)-1:\n",
    "            if words[i+1] not in set(string.punctuation):\n",
    "                sys.stdout.write(' ')\n",
    "    sys.stdout.write('\\n\\n')\n",
    "    \n",
    "printNicely(123, 50)\n",
    "\n",
    "def print_results(scores, corpus, num_results, num_chars=50):\n",
    "    for pair in scores[:num_results]:\n",
    "        sys.stdout.write('%f ' % pair[0])\n",
    "        printNicely(pair[1], num_chars)\n",
    "        "
   ]
  },
  {
   "cell_type": "markdown",
   "metadata": {
    "collapsed": false
   },
   "source": [
    "## Building the Engine\n",
    "\n",
    "The next step is to create the inverted index. I'm omitting categories for now."
   ]
  },
  {
   "cell_type": "code",
   "execution_count": 9,
   "metadata": {
    "collapsed": false
   },
   "outputs": [
    {
     "name": "stdout",
     "output_type": "stream",
     "text": [
      "3 : 2\n",
      "3333 : 1\n",
      "6758 : 1\n",
      "1546 : 1\n",
      "4183 : 1\n"
     ]
    }
   ],
   "source": [
    "def createInvertedIndex(documents):\n",
    "    idx = {}\n",
    "    \n",
    "    for i,document in enumerate(documents):\n",
    "        for word in document:\n",
    "            if word in idx:\n",
    "                if i in idx[word]:\n",
    "                    idx[word][i] += 1\n",
    "                else:\n",
    "                    idx[word][i] = 1\n",
    "            else:\n",
    "                idx[word] = {i:1}\n",
    "    return idx\n",
    "        \n",
    "idx = createInvertedIndex(documents)\n",
    "for i,pair in enumerate(idx['thailand']):\n",
    "    if i < 5:\n",
    "        print pair,':',idx['thailand'][pair]\n",
    "    else:\n",
    "        break"
   ]
  },
  {
   "cell_type": "markdown",
   "metadata": {
    "collapsed": true
   },
   "source": [
    "It's then possible to evaluate my first search query with term frequency as the only information metric."
   ]
  },
  {
   "cell_type": "code",
   "execution_count": 10,
   "metadata": {
    "collapsed": false
   },
   "outputs": [
    {
     "name": "stdout",
     "output_type": "stream",
     "text": [
      "5.000000   BRAZIL SAYS DEBT CRISIS IS WORLD PROBLEM\n",
      "Finance Minister Dilson Funaro said his country' s foreign debt crisis could only be solved by changes in the international financial system. Speaking to a business conference he said\" It is not Brazil that has to make adjustments with the \n",
      "\n",
      "4.000000   PORTUGUESE ECONOMY REMAINS BUOYANT DESPITE CRISIS\n",
      "' s economy, which has been enjoying one of its most buoyant periods in more than a decade, may now be strong enough to shrug off the country' s latest government crisis, analysts said. But the April 3 ousting \n",
      "\n",
      "4.000000   PAPANDREOUSHOWS \" RESTRICTEDOPTIMISM \" OVER CRISIS\n",
      "Prime Minister Andreas Papandreou expressed\" restricted optimism\" about a crisis with Turkey over disputed oil rights in the Aegean Sea. Papandreou was speaking to reporters after briefing opposition political leaders on the latest developments in the row as a \n",
      "\n",
      "3.000000  TREASURY' S BAKER UNDER FIRE FOR WALL STREET DROP As\n",
      "Washington sought to restore investor confidence after Monday' s Wall Street collapse, Treasury Secretary James Baker came under fire from critics who claimed he helped to precipitate the crisis. Baker' s weekend blast at the \n",
      "\n",
      "3.000000   CASH CRISIS HITS UGANDAN COFFEE BOARD\n",
      "' s state- run Coffee Marketing Board( CMB) has been suffering a cash crisis for the past two months due to a bottleneck in export shipments and administrative delays in handling payments, trade sources said. The CMB needs between \n",
      "\n",
      "2.000000   TROPICAL FOREST DEATH COULD SPARK NEW DEBT CRISIS\n",
      "death of the world' s tropical rain forests could trigger a new debt crisis and social and biological disasters, scientists and ecologists involved with the International Tropical Timber Organisation( ITTO) said. At stake is the ability of \n",
      "\n",
      "2.000000   EC COMMISSION GIVEN PLAN TO SAVE STEEL INDUSTRY\n",
      "Community steelmakers presented the Executive Commission with a controversial plan for the future of the industry which diplomats say it may be forced reluctantly to accept. Under the plan steel output would remain subject to restrictive quotas and imports would be \n",
      "\n",
      "2.000000  EX -ARCO &lt ;ARC > CHIEF SEES ENERGY CRISIS BY 1990\n",
      "global crude oil reserves and the lack of any major new discoveries in recent years will send the world into an energy crisis by 1990, the former Atlantic Richfield Co chairman Robert O. Anderson \n",
      "\n",
      "2.000000   DIPLOMATSCALLU.S . ATTACK ON OIL RIGRESTRAINEDAU.S .\n",
      "on an Iranian oil platform in the Gulf on Monday appeared to be a tit- for- tat raid carefully orchestrated not to be too provocative or upset Arab allies, Western diplomats \n",
      "\n",
      "2.000000   OECDTRADE , GROWTH SEEN SLOWING IN 1987\n",
      "24 nations of the Organisation for Economic Cooperation and Development( OECD ), hampered by sluggish industrial output and trade, face slower economic growth, and their joint balance of payments will swing into deficit in 1987, the Economist Intelligence \n",
      "\n"
     ]
    }
   ],
   "source": [
    "def searchTF(query, corpus, idx):\n",
    "    scores = {}\n",
    "    \n",
    "    for word in query.split():\n",
    "        for doc_num in idx[word]:\n",
    "            if doc_num in scores:\n",
    "                scores[doc_num] += idx[word][doc_num]\n",
    "            else:\n",
    "                scores[doc_num] = idx[word][doc_num]\n",
    "    \n",
    "    results = []\n",
    "    for pair in [[score[0],score[1]] for score in zip(scores.keys(), scores.values())]:\n",
    "        results.append([pair[1], pair[0]])\n",
    "        \n",
    "    return sorted(results, key=lambda x: x[0] * -1)\n",
    "    \n",
    "\n",
    "def printResults(results, corpus, n, head=True):\n",
    "    ''' Helper function to print results\n",
    "    '''\n",
    "    if head:    \n",
    "        print('\\nTop %d from recall set of %d items:' % (n,len(results)))\n",
    "        for r in results[:n]:\n",
    "            print('\\t%0.2f - %s length: %d'%(r[0],corpus[r[1]][:8],len(corpus[r[1]])))\n",
    "    else:\n",
    "        print('\\nBottom %d from recall set of %d items:' % (n,len(results)))\n",
    "        for r in results[-n:]:\n",
    "            print('\\t%0.2f - %s length: %d'%(r[0],corpus[r[1]][:8],len(corpus[r[1]])))\n",
    "\n",
    "idx = createInvertedIndex(documents)\n",
    "scores = searchTF('hostage crisis', documents, idx)\n",
    "print_results(scores, documents, 10)"
   ]
  },
  {
   "cell_type": "markdown",
   "metadata": {},
   "source": [
    "The resulting document set is less than spectacular. The 9th query looks promising to be an actual article on a hostage crisis, but it, like the others, lacks 'hostage'"
   ]
  },
  {
   "cell_type": "code",
   "execution_count": 11,
   "metadata": {
    "collapsed": false
   },
   "outputs": [
    {
     "name": "stdout",
     "output_type": "stream",
     "text": [
      "False\n",
      "True\n"
     ]
    }
   ],
   "source": [
    "print 'hostage' in documents[scores[8][1]]\n",
    "print 'crisis' in documents[scores[8][1]]"
   ]
  },
  {
   "cell_type": "code",
   "execution_count": 12,
   "metadata": {
    "collapsed": false
   },
   "outputs": [
    {
     "name": "stdout",
     "output_type": "stream",
     "text": [
      "\n",
      "Top 10 from recall set of 1 items:\n",
      "\t1.00 - ['unocal', '&', 'lt', ';', 'ucl', '>', 'plans', 'increase'] length: 435\n"
     ]
    }
   ],
   "source": [
    "scores = searchTF('hostage', documents, idx)\n",
    "printResults(scores, documents, 10)"
   ]
  },
  {
   "cell_type": "markdown",
   "metadata": {},
   "source": [
    "Maybe the query isn't the most fair since only one document in the entire corpus contains 'hostage'. I'll try another."
   ]
  },
  {
   "cell_type": "code",
   "execution_count": 13,
   "metadata": {
    "collapsed": false
   },
   "outputs": [
    {
     "name": "stdout",
     "output_type": "stream",
     "text": [
      "69.000000   ECONOMICSPOTLIGHT-U.S . DEFICIT WITH NICs\n",
      "U. S. trade deficit with Taiwan and Korea is expected to widen this year, despite some economic and currency adjustments by the two newly industrialized countries, economists said.\" The surpluses that Taiwan and Korea \n",
      "\n",
      "53.000000   COFFEE TALKS FAILURE SEENPRESSURINGU.S .\n",
      "of talks on re- establishing International Coffee Organization, ICO, coffee quotas last week may put political pressure on the United States, particularly the State Department, to reassess its position, but the U. S. \n",
      "\n",
      "50.000000   ASIAN EXPORTERS FEAR DAMAGEFROMU. S .- JAPAN RIFT\n",
      "trade friction between the U. S. And Japan has raised fears among many of Asia' s exporting nations that the row could inflict far- reaching economic damage, businessmen and officials said. They told \n",
      "\n",
      "47.000000   JAPANREJECTSU.S . OBJECTIONS TO FAIRCHILDSALE A\n",
      "Ministry official dismissed arguments made by senior U. S. Government officials seeking to block the sale of a U. S. Microchip maker to a Japanese firm.\" They appear to be linking completely unrelated \n",
      "\n",
      "46.000000   JAPAN MINISTRY SAYS OPEN FARM TRADE WOULDHITU.S .\n",
      "' s Agriculture Ministry, angered by U. S. Demands that Japan open its farm products market, will tell U. S. Officials at talks later this month that liberalisation would harm existing U\n",
      "\n"
     ]
    }
   ],
   "source": [
    "scores = searchTF('u s national debt', documents, idx)\n",
    "print_results(scores, documents, 5)"
   ]
  },
  {
   "cell_type": "markdown",
   "metadata": {},
   "source": [
    "The results are noticeably better. One thing that stands out, however, is that longer queries seem to dominate the top, and the weighting of all tokens is the same, when really they should be diminished by their prevalence.\n",
    "\n",
    "## Improving the Results\n",
    "\n",
    "First, we can change the weights of terms by implementing IDF to our score, then later on, adjust the document scores by their length. In eyeballing the results, US seems to appear more which is good; it's weight has likely beein increased significantly by the addition of IDF."
   ]
  },
  {
   "cell_type": "code",
   "execution_count": 14,
   "metadata": {
    "collapsed": false
   },
   "outputs": [
    {
     "name": "stdout",
     "output_type": "stream",
     "text": [
      "74.229330   ECONOMICSPOTLIGHT-U.S . DEFICIT WITH NICs\n",
      "U. S. trade deficit with Taiwan and Korea is expected to widen this year, despite some economic and currency adjustments by the two newly industrialized countries, economists said.\" The surpluses that Taiwan and Korea \n",
      "\n",
      "62.301298  U.S . URGES BANKS TO WEIGH PHILIPPINE DEBT PLAN\n",
      "U. S. is urging reluctant commercial banks to seriously consider accepting a novel Philippine proposal for paying its interest bill and believes the innovation is fully consistent with its Third World debt strategy, a Reagan administration \n",
      "\n",
      "61.768198   COFFEE TALKS FAILURE SEENPRESSURINGU.S .\n",
      "of talks on re- establishing International Coffee Organization, ICO, coffee quotas last week may put political pressure on the United States, particularly the State Department, to reassess its position, but the U. S. \n",
      "\n",
      "52.589726   JAPANREJECTSU.S . OBJECTIONS TO FAIRCHILDSALE A\n",
      "Ministry official dismissed arguments made by senior U. S. Government officials seeking to block the sale of a U. S. Microchip maker to a Japanese firm.\" They appear to be linking completely unrelated \n",
      "\n",
      "52.149000   ASIAN EXPORTERS FEAR DAMAGEFROMU. S .- JAPAN RIFT\n",
      "trade friction between the U. S. And Japan has raised fears among many of Asia' s exporting nations that the row could inflict far- reaching economic damage, businessmen and officials said. They told \n",
      "\n",
      "51.135704   JAPAN MINISTRY SAYS OPEN FARM TRADE WOULDHITU.S .\n",
      "' s Agriculture Ministry, angered by U. S. Demands that Japan open its farm products market, will tell U. S. Officials at talks later this month that liberalisation would harm existing U\n",
      "\n",
      "48.960651   AMPLE SUPPLIESLIMITU.S .STRIKE' S OIL PRICE IMPACT\n",
      "supplies of OPEC crude weighing on world markets helped limit and then reverse oil price gains that followed the U. S. Strike on an Iranian oil platform in the Gulf earlier on Monday, analysts \n",
      "\n",
      "48.261841   CHINA CALLS FOR BETTER TRADE DEALWITHU.S .\n",
      "called on the United States to remove curbs on its exports, to give it favourable trading status and ease restrictions on exports of high technology. But the U. S. Embassy replied that Chinese figures showing \n",
      "\n",
      "46.805157   OFFER FOR DOME MAYSHORT - CIRCUIT ITS DEBTTALKSA3 . 22\n",
      "dlr offer for Dome Petroleum Ltd& lt; DMP. MO> by TransCanada Pipelines Ltd& lt; TRP. TO> may short- circuit Dome' s restructuring plan and open the \n",
      "\n",
      "46.805157   OFFER FOR DOME MAYSHORT - CIRCUIT ITS DEBTTALKSA3 . 22\n",
      "dlr offer for Dome Petroleum Ltd& lt; DMP. MO> by TransCanada Pipelines Ltd& lt; TRP. TO> may short- circuit Dome' s restructuring plan and open the \n",
      "\n"
     ]
    }
   ],
   "source": [
    "import math\n",
    "\n",
    "def idfCalc(term, idx, n):\n",
    "    return math.log( float(n) / (1 + len(idx[term])))\n",
    "\n",
    "def searchTFIDF(query, corpus, idx):\n",
    "    scores = {}\n",
    "    \n",
    "    for word in query.split():\n",
    "        if word in idx:\n",
    "            idf = idfCalc(word, idx, len(corpus))\n",
    "            \n",
    "            for doc_num in idx[word]:\n",
    "                if doc_num in scores:\n",
    "                    scores[doc_num] += idx[word][doc_num] * idf\n",
    "                else:\n",
    "                    scores[doc_num] = idx[word][doc_num] * idf\n",
    "    \n",
    "    results = []\n",
    "    for pair in [[score[0],score[1]] for score in zip(scores.keys(), scores.values())]:\n",
    "        results.append([pair[1], pair[0]])\n",
    "        \n",
    "    return sorted(results, key=lambda x: x[0] * -1)\n",
    "\n",
    "scores = searchTFIDF('u s national debt', documents, idx)\n",
    "print_results(scores, documents, 10)"
   ]
  },
  {
   "cell_type": "markdown",
   "metadata": {},
   "source": [
    "Now to do something about the document length. I'll start by simply dividing the score by the length of the document. This should give me a sort of relevance per token metric."
   ]
  },
  {
   "cell_type": "code",
   "execution_count": 15,
   "metadata": {
    "collapsed": false
   },
   "outputs": [
    {
     "name": "stdout",
     "output_type": "stream",
     "text": [
      "0.356455  \n",
      "national bank says bought dollars against yen swiss national bank says bought dollars against yen\n",
      "\n",
      "0.316849   VIACOM INTERNATIONAL INC GETS ANOTHER NEW NATIONAL AMUSEMENTS BID VIACOM INTERNATIONAL INC GETS ANOTHER NEW NATIONAL AMUSEMENTSBID\n",
      "\n",
      "0.259240   VIACOM SAID IT HAS NEW NATIONALAMUSEMENTS , MCV HOLDINGS BIDS VIACOM SAID IT HAS NEW NATIONALAMUSEMENTS , MCV HOLDINGSBIDS\n",
      "\n",
      "0.259240   BENEFICIAL CORP TO SELL WESTERN NATIONAL LIFE FOR 275 MLN DLRS BENEFICIAL CORP TO SELL WESTERN NATIONAL LIFE FOR 275 MLNDLRS\n",
      "\n",
      "0.255533   UNIONNATIONAL &lt ;UNBC > SIGNS DEFINITIVE PACT\n",
      "National Corp said it signed a definitive agreement under which its First National Bank and Trust Co of Washington unit will merge with& lt; Second National Bank of Masontown >. Under a previously announced merger agreement, each \n",
      "\n",
      "0.252366  U.S .VIDEO &lt ;VVCO. O >, FIRST NATIONAL INMERGERU.S .\n",
      "Vending Corp said it completed acquiring First National Telecommunications INc from First National Entertainment Corp for about 10 mln, or a controlling interest of U. S. Video \n",
      "\n",
      "0.250408  KEYU.S . HOUSE TRADE SUBCOMMITTEE APPROVES BILL TOTOUGHENU.S . TRADE LAWSKEYU.S . HOUSE TRADE SUBCOMMITTEE APPROVES BILL TOTOUGHENU.S . TRADELAWS\n",
      "\n",
      "0.225367   YEUTTERSAYSU.S . SHOULD STRESS TRADE NEGOTIATIONS ASLONG -TERMU.S . TRADE POLICY YEUTTERSAYSU.S . SHOULD STRESS TRADE NEGOTIATIONS ASLONG -TERMU.S . TRADEPOLICY\n",
      "\n",
      "0.208657   SECURITYPACIFIC , PROVIDENT NATIONAL LIFT PRIME\n",
      "Pacific National Bank and Provident National Bank said they increased their prime lending rates a quarter point to 7- 3/ 4 pct. They said the move is effective immediately.\n",
      "\n",
      "0.206090  \n",
      "National said it cutting U. K. Mortgage rate by 1. 125 pct to 11. 25 pct Abbey National said it cutting U. K. Mortgage rate by 1. 125 pct to 11. 25 pct\n",
      "\n"
     ]
    }
   ],
   "source": [
    "def searchTFIDFNorm(query, corpus, idx):\n",
    "    scores = {}\n",
    "    \n",
    "    for word in query.split():\n",
    "        docs = []\n",
    "        if word in idx:\n",
    "            idf = idfCalc(word, idx, len(corpus))\n",
    "            \n",
    "            for doc_num in idx[word]:\n",
    "                if doc_num in scores:\n",
    "                    scores[doc_num] += idx[word][doc_num] * idf\n",
    "                else:\n",
    "                    scores[doc_num] = idx[word][doc_num] * idf\n",
    "    \n",
    "    results = []\n",
    "    for pair in [[score[0],score[1]] for score in zip(scores.keys(), scores.values())]:\n",
    "        results.append([pair[1] / len(corpus[pair[0]]), pair[0]])\n",
    "        \n",
    "    return sorted(results, key=lambda x: x[0] * -1)\n",
    "\n",
    "scores = searchTFIDFNorm('u s national debt', documents, idx)\n",
    "print_results(scores, documents, 10)"
   ]
  },
  {
   "cell_type": "markdown",
   "metadata": {},
   "source": [
    "The results appear to be disastrous. Very short queries are winning out because occurences of 'national' for example aren't being mitigated very heavily by a document of length 16. Perhaps a more moderate approach like normalizing by the log of the length would be effective."
   ]
  },
  {
   "cell_type": "code",
   "execution_count": 16,
   "metadata": {
    "collapsed": false
   },
   "outputs": [
    {
     "name": "stdout",
     "output_type": "stream",
     "text": [
      "10.467009   ECONOMICSPOTLIGHT-U.S . DEFICIT WITH NICs\n",
      "U. S. trade deficit with Taiwan and Korea is expected to widen this year, despite some economic and currency adjustments by the two newly industrialized countries, economists said.\" The surpluses that Taiwan and Korea \n",
      "\n",
      "9.160506   COFFEE TALKS FAILURE SEENPRESSURINGU.S .\n",
      "of talks on re- establishing International Coffee Organization, ICO, coffee quotas last week may put political pressure on the United States, particularly the State Department, to reassess its position, but the U. S. \n",
      "\n",
      "9.041479  U.S . URGES BANKS TO WEIGH PHILIPPINE DEBT PLAN\n",
      "U. S. is urging reluctant commercial banks to seriously consider accepting a novel Philippine proposal for paying its interest bill and believes the innovation is fully consistent with its Third World debt strategy, a Reagan administration \n",
      "\n",
      "8.173028   JAPANREJECTSU.S . OBJECTIONS TO FAIRCHILDSALE A\n",
      "Ministry official dismissed arguments made by senior U. S. Government officials seeking to block the sale of a U. S. Microchip maker to a Japanese firm.\" They appear to be linking completely unrelated \n",
      "\n",
      "8.016978   JAPAN MINISTRY SAYS OPEN FARM TRADE WOULDHITU.S .\n",
      "' s Agriculture Ministry, angered by U. S. Demands that Japan open its farm products market, will tell U. S. Officials at talks later this month that liberalisation would harm existing U\n",
      "\n"
     ]
    }
   ],
   "source": [
    "import math\n",
    "\n",
    "def searchTFIDFNorm(query, corpus, idx):\n",
    "    scores = {}\n",
    "    \n",
    "    for word in query.split():\n",
    "        docs = []\n",
    "        if word in idx:\n",
    "            idf = idfCalc(word, idx, len(corpus))\n",
    "            \n",
    "            for doc_num in idx[word]:\n",
    "                if doc_num in scores:\n",
    "                    scores[doc_num] += idx[word][doc_num] * idf\n",
    "                else:\n",
    "                    scores[doc_num] = idx[word][doc_num] * idf\n",
    "    \n",
    "    results = []\n",
    "    for pair in [[score[0],score[1]] for score in zip(scores.keys(), scores.values())]:\n",
    "        results.append([pair[1] / math.log(len(corpus[pair[0]])), pair[0]])\n",
    "        \n",
    "    return sorted(results, key=lambda x: x[0] * -1)\n",
    "\n",
    "scores = searchTFIDFNorm('u s national debt', documents, idx)\n",
    "print_results(scores, documents, 5, 50)"
   ]
  },
  {
   "cell_type": "markdown",
   "metadata": {
    "collapsed": true
   },
   "source": [
    "I'm pretty happy with the results, so I think it's time to try some more queries on this setup and ask for feedback."
   ]
  },
  {
   "cell_type": "code",
   "execution_count": 17,
   "metadata": {
    "collapsed": false
   },
   "outputs": [
    {
     "name": "stdout",
     "output_type": "stream",
     "text": [
      "----------Query 1----------\n",
      "6.148997   MIDDLE EAST CURRENCY MARKET SEES KEY CHANGES\n",
      "East currency dealers meet in Abu Dhabi this weekend at a time of fundamental change in their business, which has seen a growing volume of trade shift from the Arab world to London. The 14th congress of the Inter- Arab \n",
      "\n",
      "4.658282  U.S . CORPORATEFINANCE - NEW ZEALAND DLR FRNS\n",
      "- rate notes denominated in a foreign currency, a relatively new wrinkle on Wall Street, will probably be issued infrequently because the so- called\" window of opportunity\" opens and closes quickly, traders say\n",
      "\n",
      "4.308503   VW SAYS 480 MLN MARKS MAXIMUM FOR CURRENCY LOSSES\n",
      "for Volkswagen AG& lt; VOWG. F >, VW, linked to an alleged foreign currency fraud will not exceed the 480 mln marks provision already made, a VW spokesman said. The spokesman was commenting after VW \n",
      "\n",
      "4.228809   DOLLAR EXPECTED TO FALL DESPITE INTERVENTION\n",
      "bank intervention in the foreign exchange markets succeeded in staunching the dollar' s losses today, but senior dealers here believe the U. S. currency is headed for a further retreat. Although the intervention was widespread, dealers perceive that \n",
      "\n",
      "4.207556   EC MINISTERS WILL DISCUSS STRENGTHENING EMS FLOAT\n",
      "Community finance ministers and central bankers meet in Belgium this weekend to discuss strengthening Europe' s joint currency float amid continuing worries about turbulence on foreign exchanges. Belgian Finance Minister Mark Eyskens, who will host the informal talks, told \n",
      "\n",
      "----------Query 2----------\n",
      "3.443585   PLACER PACIFIC SAYS BIG BELL GOLD STUDYEXPANDING &lt ;\n",
      "Pacific Ltd> said it will undertake a full feasibility study of Western Australia' s Big Bell gold prospect. Results of an economic evaluation of the find, in which Placer has an option with& lt\n",
      "\n",
      "2.978089   ECUADOR BEGINS WORK ON OIL PIPELINE TO COLOMBIA\n",
      "workers today began building a 26 km( 16 mile) pipeline to link Ecuador' s jungle oilfields to a pipeline in Colombia through which Ecuadorean crude could be pumped to the Pacific Coast, Ecuadorean energy minsitry officials said. \n",
      "\n",
      "2.328133   KENTUCKY SMELTERS GET RELIEF ON HIGHER RATES\n",
      "of two aluminum smelters in Kentucky received temporary relief from higher electric rates after a decision Tuesday by state regulators denying a rate hike to( Big Rivers Electric Corp) of Henderson, Ky. But the owners of the smelters,\n",
      "\n",
      "2.202581   ECUADOR CRUDE OIL OUTPUT TO RESUME NEXT MONTH\n",
      "is due to resume limited crude oil output on May 8 when a new 43 km pipeline to neighbouring Colombia should be finished, an energy ministry spokesman said. Oil output was halted on March 5 by an earthquake which damaged \n",
      "\n",
      "2.172042   ECUADOR GETS LOAN TO HELP REPAIR OIL PIPELINE\n",
      "Andean Development Corp( CAF) said today it is lending 11. 7 mln dlrs to Ecuador to help repair 25 miles of oil pipeline destroyed by an earthquake earlier this month. the loan was signed here today in the \n",
      "\n",
      "----------Query 3----------\n",
      "2.978089   ECUADOR BEGINS WORK ON OIL PIPELINE TO COLOMBIA\n",
      "workers today began building a 26 km( 16 mile) pipeline to link Ecuador' s jungle oilfields to a pipeline in Colombia through which Ecuadorean crude could be pumped to the Pacific Coast, Ecuadorean energy minsitry officials said. \n",
      "\n",
      "2.202581   ECUADOR CRUDE OIL OUTPUT TO RESUME NEXT MONTH\n",
      "is due to resume limited crude oil output on May 8 when a new 43 km pipeline to neighbouring Colombia should be finished, an energy ministry spokesman said. Oil output was halted on March 5 by an earthquake which damaged \n",
      "\n",
      "2.172042   ECUADOR GETS LOAN TO HELP REPAIR OIL PIPELINE\n",
      "Andean Development Corp( CAF) said today it is lending 11. 7 mln dlrs to Ecuador to help repair 25 miles of oil pipeline destroyed by an earthquake earlier this month. the loan was signed here today in the \n",
      "\n",
      "2.156795   ECUADOR SAYS SUSPENDS OIL EXPORTS DUE EARTHQUAKE\n",
      "today suspended its crude oil exports indefinitely due to an earthquake last night that damaged pumping and crude transport installations, an Energy and Mines MInistry statement said. It said the state oil firm Corporacion Estatal Petrolera Ecuatoriana( CEPE) notified \n",
      "\n",
      "2.072605   VENEZUELA TO LEND UP TO12. 5 MLN BARRELS OF OIL\n",
      "will lend Ecuador up to 12. 5 mln barrels of crude oil to help it meet its export commitments and its domestic energy demand, Ecuadorean Energy and Mines Minister Javier Espinosa said today in a statement\n",
      "\n",
      "----------Query 4----------\n",
      "7.041342   NIPPONLIFE , SHEARSONTIE - UP SEEN SETTING TREND\n",
      "Life Insurance Co' s 538 mln dlr purchase of a 13 pct stake in Shearson Lehman Brothers Inc brokerage unit is a shrewd move that other Japanese insurers are likely to follow, securities analysts said. The investment \n",
      "\n",
      "7.041342   NIPPONLIFE , SHEARSONTIE - UP SEEN SETTING TREND\n",
      "Life Insurance Co' s 538 mln dlr purchase of a 13 pct stake in Shearson Lehman Brothers Inc brokerage unit is a shrewd move that other Japanese insurers are likely to follow, securities analysts said. The investment \n",
      "\n",
      "6.003047   AWB CALLS FOR TIGHTER WHEAT QUALITY CONTROLS\n",
      "is risking wheat export sales by not providing enough specific quality grades to meet buyer requirements, the Australian Wheat Board( AWB) said.\" Many AWB customers are becoming increasingly quality conscious, demanding strict adherence to contractual quality specifications \n",
      "\n",
      "5.972656   AMERICANEXPRESS &lt ;AXP > APPROVES SHEARSON OFFER\n",
      "Express Co said its board approved a public offering of about 18 pct of its wholly owned Shearson Lehman Brothers Inc brokerage unit. American Express also approved the previously announced plan to sell about 13 pct, or 13 \n",
      "\n",
      "5.209416   RUBBER STOCK MANAGER SAYS QUALITY ACCEPTABLE\n",
      "Rubber Organisation( INRO) buffer stock manager Aldo Hofmeister said tests had shown the quality of rubber in stock was acceptable, but acknowledged that some consumers were now wary of buying it.\" We have said all along that the rubber \n",
      "\n"
     ]
    }
   ],
   "source": [
    "print '----------Query 1----------'\n",
    "scores = searchTFIDFNorm('international currency', documents, idx)\n",
    "print_results(scores, documents, 5, 50)\n",
    "\n",
    "print '----------Query 2----------'\n",
    "scores = searchTFIDFNorm('big earthquake', documents, idx)\n",
    "print_results(scores, documents, 5, 50)\n",
    "\n",
    "print '----------Query 3----------'\n",
    "scores = searchTFIDFNorm('earthquake', documents, idx)\n",
    "print_results(scores, documents, 5, 50)\n",
    "\n",
    "print '----------Query 4----------'\n",
    "scores = searchTFIDFNorm('quality of life', documents, idx)\n",
    "print_results(scores, documents, 5, 50)"
   ]
  },
  {
   "cell_type": "markdown",
   "metadata": {},
   "source": [
    "The results point out a few weaknesses in the search engine. 1) words adjectives like 'big' confuse the results, especially when there aren't many documents with 'earthquake'"
   ]
  },
  {
   "cell_type": "code",
   "execution_count": 18,
   "metadata": {
    "collapsed": false
   },
   "outputs": [
    {
     "name": "stdout",
     "output_type": "stream",
     "text": [
      "36\n"
     ]
    },
    {
     "data": {
      "text/plain": [
       "95"
      ]
     },
     "execution_count": 18,
     "metadata": {},
     "output_type": "execute_result"
    }
   ],
   "source": [
    "scores = searchTFIDFNorm('earthquake', documents, idx)\n",
    "scores2 = searchTFIDFNorm('big', documents, idx)\n",
    "print len(scores)\n",
    "len(scores2)"
   ]
  },
  {
   "cell_type": "markdown",
   "metadata": {},
   "source": [
    "Also, it doesn't handle phrases well like 'quality of life'. It does handle very keyword heavy queries well though."
   ]
  },
  {
   "cell_type": "code",
   "execution_count": 19,
   "metadata": {
    "collapsed": false
   },
   "outputs": [
    {
     "name": "stdout",
     "output_type": "stream",
     "text": [
      "4.527399   NET CHANGE IN EXPORT COMMITMENTS -- USDA\n",
      "U. S. Agriculture Department gave the net change in export commitments, including sales, cancellations, foreign purchases and cumulative exports, in the current seasons through the week ended April 2, with comparisons, as follows, in \n",
      "\n",
      "2.989904   DEAK BUYS JOHNSON MATTHEY COMMODITIES\n",
      "International, a foreign currency and precious metals firm, announced the acquisition of Johnson Matthey Commodities of New York from Minories Finance Limited, a unit of the Bank of England. The purchase valued at 14. 8 mln dlrs follows the recent \n",
      "\n",
      "2.978849   DEAK BUYS JOHNSON MATTHEY COMMODITIES\n",
      "International, a foreign currency and precious metals firm, announced the acquisition of Johnson Matthey Commodities of New York from Minories Finance Limited, a unit of the Bank of England. The purchase valued at 14. 8 mln dlrs follows the recent \n",
      "\n",
      "2.969081  U.S . DOLLAR LOSSES PROPEL BROAD COMMODITY GAINS\n",
      "from gold to grains to cotton posted solid gains in a flurry of buying today as losses in the U. S. dollar and rising interest rates kindled fears of inflation and economic instability. Gains were most pronounced \n",
      "\n",
      "2.957537   THAI TRADERS PLAN MAIZE FUTURES MARKET\n",
      "traders plan to establish a company to regulate maize forward trading, in what could be a first step towards a commodities futures exchange, maize dealers said. Traders and Internal Trade Department officials agreed last week to commission a study on a \n",
      "\n"
     ]
    }
   ],
   "source": [
    "scores = searchTFIDFNorm('asia commodities', documents, idx)\n",
    "print_results(scores, documents, 5, 50)"
   ]
  },
  {
   "cell_type": "markdown",
   "metadata": {},
   "source": [
    "## Treating the Title Differently\n",
    "\n",
    "Earlier I hypothesized that I could change the weight of the title to make it more effective; I know plan to implement that by making the total weight of the title equal to the total wieght of the document.\n",
    "\n",
    "My justification for this is that the title should represent the information presented in the corpus, therefore, I think it's information contribution should be weighed the same as the corpus.\n",
    "\n",
    "In terms of a product on a website, if the item is an iPhone 6 than iPhone and 6 will be very heavily weighted, which is basically what you want. An item with a long description full of spam will have to divide that weight among more tokens, and it probably will also have a weak description, meaning the title will have low weight and low relevancy.\n",
    "\n",
    "I'm going to make a separate idx for the titles and a separate IDF. First I'll separate titles from corpus using code I engineered for my printing function. Unfortunately I couldn't get it to work for all documents, but I might still be able to demonstrate the concept on a smaller corpus. WARNING: MAY TAKE A WHILE"
   ]
  },
  {
   "cell_type": "code",
   "execution_count": 20,
   "metadata": {
    "collapsed": false
   },
   "outputs": [],
   "source": [
    "import numpy\n",
    "\n",
    "reuters_docs = []\n",
    "new_documents = []\n",
    "\n",
    "articles = numpy.random.choice(len(reuters.fileids()), 500, replace=False)\n",
    "\n",
    "for i in articles:\n",
    "    reuters_docs.append(reuters.words(reuters.fileids()[i]))\n",
    "\n",
    "\n",
    "for document in reuters_docs:\n",
    "    title_corpus = []\n",
    "    for i,word in enumerate(document):\n",
    "        if i > 1:\n",
    "            if len(word) > 2:\n",
    "                if word[1].islower():\n",
    "                    title = []\n",
    "                    for j in range(0, i):\n",
    "                        title.append(document[j].encode('utf-8'))\n",
    "                    title_corpus.append(title)\n",
    "                    corpus = []\n",
    "                    for j in range(i, len(document)):\n",
    "                        corpus.append(document[j].lower().encode('utf-8'))\n",
    "                    title_corpus.append(corpus)\n",
    "                    \n",
    "    new_documents.append(title_corpus)"
   ]
  },
  {
   "cell_type": "markdown",
   "metadata": {},
   "source": [
    "Let's see how it turned out"
   ]
  },
  {
   "cell_type": "code",
   "execution_count": 21,
   "metadata": {
    "collapsed": false
   },
   "outputs": [
    {
     "name": "stdout",
     "output_type": "stream",
     "text": [
      "['WEISFIELD', \"'\", 'S', 'INC', '&', 'lt', ';', 'WEIS', '>', 'QUARTERLY', 'DIVIDEND']\n",
      "['qtly', 'div', '12', '-', '1', '/', '2', 'cts', 'vs', '12', '-', '1', '/', '2', 'cts']\n",
      "\n",
      "['SOVIET', 'INDUSTRIAL', 'OUTPUT', 'UP', 'IN', 'FIRST', 'QUARTER']\n",
      "['soviet', 'industrial', 'output', 'in', 'the', 'first', 'quarter', 'of', 'this', 'year', 'grew', 'by', '2', '.', '5']\n",
      "\n",
      "['PAKISTAN', \"'\", 'S', 'TRADE', 'DEFICIT', 'NARROWS', 'IN', 'FEBRUARY']\n",
      "['pakistan', \"'\", 's', 'trade', 'deficit', 'narrowed', 'to', '2', '.', '64', 'billion', 'rupees', '(', 'provisional', ')']\n",
      "\n",
      "['ADVO', '-', 'SYSTEM', 'INC', '&', 'lt', ';', 'ADVO', '>', 'SEES', 'BREAK', '-', 'EVEN', '2ND', 'QTR', 'ADVO', '-']\n",
      "['system', 'inc', 'said', 'it', 'could', 'report', 'a', 'break', 'even', 'second', 'quarter', 'ending', 'march', '28', ',']\n",
      "\n",
      "['&', 'lt', ';', 'BARRICINI', 'FOODS', 'INC', '>', '1ST', 'QTR', 'LOSS']\n",
      "['shr', 'loss', 'three', 'cts', 'vs', 'loss', 'three', 'cts', 'net', 'loss', '78', ',', '456', 'vs', 'loss']\n",
      "\n"
     ]
    }
   ],
   "source": [
    "for i in range(0, 5):\n",
    "    print new_documents[i][0]\n",
    "    print new_documents[i][1][:15]\n",
    "    print"
   ]
  },
  {
   "cell_type": "markdown",
   "metadata": {},
   "source": [
    "Now that we have the titles separated we can treat them as separate information. Unfortunately I couldn't get the title weighting to equal the corpus weighting, so I had to settle with a separate IDF for titles."
   ]
  },
  {
   "cell_type": "code",
   "execution_count": 35,
   "metadata": {
    "collapsed": false
   },
   "outputs": [
    {
     "name": "stdout",
     "output_type": "stream",
     "text": [
      "1.448965   ASIAN EXPORTERS FEAR DAMAGEFROMU. S .- JAPAN RIFT\n",
      "trade friction between the U. S. And Japan has raised fears among many of Asia' s exporting nations that the row could inflict far- reaching economic damage, businessmen and officials said. They told \n",
      "\n",
      "1.341036   INDONESIAN COMMODITY EXCHANGE MAY EXPAND\n",
      "Indonesian Commodity Exchange is likely to start trading in at least one new commodity, and possibly two, during calendar 1987, exchange chairman Paian Nainggolan said. He told Reuters in a telephone interview that trading in palm oil, sawn timber, \n",
      "\n",
      "1.341036   WESTERN MINING TO OPEN NEW GOLD MINE IN AUSTRALIA\n",
      "Mining Corp Holdings Ltd& lt; WMNG. S>( WMC) said it will establish a new joint venture gold mine in the Northern Territory at a cost of about 21 mln dlrs. The mine, to \n",
      "\n",
      "1.341036   BOND CORP STILL CONSIDERING ATLAS MININGBAIL - OUT\n",
      "Corp Holdings Ltd& lt; BONA. S> and Atlas Consolidated Mining and Development Corp& lt; ATLC. MN> are still holding talks on a bail- out package for the troubled mining firm, an \n",
      "\n",
      "1.233046   INDONESIA SEES CPO PRICE RISING SHARPLY\n",
      "expects crude palm oil( CPO) prices to rise sharply to between 450 and 550 dlrs a tonne FOB sometime this year because of better European demand and a fall in Malaysian output, Hasrul Harahap, junior minister for tree crops, \n",
      "\n"
     ]
    }
   ],
   "source": [
    "def createInvertedIndex(documents):\n",
    "    idx_t = {}\n",
    "    for i,title in enumerate(documents[0]):\n",
    "        for word in title:\n",
    "            word = word.lower()\n",
    "            if word in idx_t:\n",
    "                if i in idx_t[word]:\n",
    "                    idx_t[word][i] += 1\n",
    "                else:\n",
    "                    idx_t[word][i] = 1\n",
    "            else:\n",
    "                idx_t[word] = {i:1}\n",
    "               \n",
    "    idx_c = {}\n",
    "    for i,corpus in enumerate(documents[1]):\n",
    "        for word in corpus:\n",
    "            word = word.lower()\n",
    "            if word in idx_c:\n",
    "                if i in idx_c[word]:\n",
    "                    idx_c[word][i] += 1\n",
    "                else:\n",
    "                    idx_c[word][i] = 1\n",
    "            else:\n",
    "                idx_c[word] = {i:1}\n",
    "    \n",
    "    return idx_t, idx_c\n",
    "\n",
    "import math\n",
    "\n",
    "def searchTFIDFTitle(query, corpus, idx_t, idx_c):\n",
    "    scores = {}\n",
    "    \n",
    "    for word in query.split():\n",
    "        word = word.lower()\n",
    "        if word in idx_t:\n",
    "            idf = idfCalc(word, idx_t, len(corpus))\n",
    "            \n",
    "            for doc_num in idx_t[word]:\n",
    "                if doc_num in scores:\n",
    "                    scores[doc_num] += idx_t[word][doc_num] * idf\n",
    "                else:\n",
    "                    scores[doc_num] = idx_t[word][doc_num] * idf\n",
    "        \n",
    "        if word in idx_c:\n",
    "            idf = idfCalc(word, idx_c, len(corpus))\n",
    "            \n",
    "            for doc_num in idx_c[word]:\n",
    "                if doc_num in scores:\n",
    "                    scores[doc_num] += idx_c[word][doc_num] * idf\n",
    "                else:\n",
    "                    scores[doc_num] = idx_c[word][doc_num] * idf\n",
    "\n",
    "    results = []\n",
    "    for pair in [[score[0],score[1]] for score in zip(scores.keys(), scores.values())]:\n",
    "        divisor = len(corpus[pair[0]])\n",
    "        if divisor < 0:\n",
    "            divisor = 1\n",
    "        else:\n",
    "            divisor = math.log(len(corpus[pair[0]]))\n",
    "        results.append([pair[1] / divisor, pair[0]])\n",
    "        \n",
    "    return sorted(results, key=lambda x: x[0] * -1)\n",
    "    \n",
    "idx_t, idx_c = createInvertedIndex(new_documents)\n",
    "scores = searchTFIDFTitle('u s national debt', new_documents, idx_t, idx_c)\n",
    "print_results(scores, new_documents, 5, 50)"
   ]
  },
  {
   "cell_type": "markdown",
   "metadata": {},
   "source": [
    "Not quite what I expected, but a little better than normalizing by length."
   ]
  },
  {
   "cell_type": "markdown",
   "metadata": {},
   "source": [
    "## Conclusions\n",
    "\n",
    "In making a search engine I learned that it's easy to improve specific queries, but hard to be generally good. Just when you think you've kind of nailed relevancy, there's a query that can break it. Also, the more complicated english entered as a query, the more likely it is to confuse the algorithm without stop word catchers, stemmers, or even a grammar parser.\n",
    "\n",
    "I would enjoy making a search engine with multithreading or on a cluster, and look forward to implementing one in the future."
   ]
  }
 ],
 "metadata": {
  "kernelspec": {
   "display_name": "Python 2",
   "language": "python",
   "name": "python2"
  },
  "language_info": {
   "codemirror_mode": {
    "name": "ipython",
    "version": 2
   },
   "file_extension": ".py",
   "mimetype": "text/x-python",
   "name": "python",
   "nbconvert_exporter": "python",
   "pygments_lexer": "ipython2",
   "version": "2.7.11"
  }
 },
 "nbformat": 4,
 "nbformat_minor": 0
}
